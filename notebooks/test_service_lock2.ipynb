{
 "metadata": {
  "language_info": {
   "codemirror_mode": {
    "name": "ipython",
    "version": 3
   },
   "file_extension": ".py",
   "mimetype": "text/x-python",
   "name": "python",
   "nbconvert_exporter": "python",
   "pygments_lexer": "ipython3",
   "version": "3.7.9-final"
  },
  "orig_nbformat": 2,
  "kernelspec": {
   "name": "python379jvsc74a57bd069c746de544a52f92176f5e3ca3e2991e1e5e7e3209f778d49537f949c9b0cf5",
   "display_name": "Python 3.7.9 64-bit"
  }
 },
 "nbformat": 4,
 "nbformat_minor": 2,
 "cells": [
  {
   "cell_type": "code",
   "execution_count": 2,
   "metadata": {},
   "outputs": [
    {
     "output_type": "execute_result",
     "data": {
      "text/plain": [
       "{'result': 6}"
      ]
     },
     "metadata": {},
     "execution_count": 2
    }
   ],
   "source": [
    "import requests\n",
    "\n",
    "r = requests.get('http://127.0.0.1:8000/run', params={'a': 3, 'b': 3})\n",
    "r.json()"
   ]
  },
  {
   "cell_type": "code",
   "execution_count": 89,
   "metadata": {},
   "outputs": [
    {
     "output_type": "execute_result",
     "data": {
      "text/plain": [
       "{'status': 'not available'}"
      ]
     },
     "metadata": {},
     "execution_count": 89
    }
   ],
   "source": [
    "import requests\n",
    "\n",
    "r = requests.get('http://127.0.0.1:8000/info')\n",
    "r.json()"
   ]
  },
  {
   "cell_type": "code",
   "execution_count": 90,
   "metadata": {},
   "outputs": [
    {
     "output_type": "execute_result",
     "data": {
      "text/plain": [
       "{'status': 'not available'}"
      ]
     },
     "metadata": {},
     "execution_count": 90
    }
   ],
   "source": [
    "import requests\n",
    "\n",
    "r = requests.get('http://127.0.0.1:8000/run_lock', params={'a': 3, 'b': 3, 'i': 2})\n",
    "r.json()"
   ]
  },
  {
   "cell_type": "code",
   "execution_count": 97,
   "metadata": {},
   "outputs": [
    {
     "output_type": "execute_result",
     "data": {
      "text/plain": [
       "{'status': 'ok'}"
      ]
     },
     "metadata": {},
     "execution_count": 97
    }
   ],
   "source": [
    "import requests\n",
    "\n",
    "r = requests.get('http://127.0.0.1:8000/run2')\n",
    "r.json()"
   ]
  }
 ]
}