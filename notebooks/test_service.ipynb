{
 "metadata": {
  "language_info": {
   "codemirror_mode": {
    "name": "ipython",
    "version": 3
   },
   "file_extension": ".py",
   "mimetype": "text/x-python",
   "name": "python",
   "nbconvert_exporter": "python",
   "pygments_lexer": "ipython3",
   "version": "3.7.9-final"
  },
  "orig_nbformat": 2,
  "kernelspec": {
   "name": "python379jvsc74a57bd069c746de544a52f92176f5e3ca3e2991e1e5e7e3209f778d49537f949c9b0cf5",
   "display_name": "Python 3.7.9 64-bit ('restapi': conda)"
  }
 },
 "nbformat": 4,
 "nbformat_minor": 2,
 "cells": [
  {
   "cell_type": "code",
   "execution_count": 2,
   "metadata": {},
   "outputs": [],
   "source": [
    "import requests"
   ]
  },
  {
   "cell_type": "code",
   "execution_count": 38,
   "metadata": {},
   "outputs": [
    {
     "output_type": "stream",
     "name": "stdout",
     "text": [
      "<Response [200]>\n"
     ]
    },
    {
     "output_type": "execute_result",
     "data": {
      "text/plain": [
       "{'weather_category': 'unknown', 'bring_umbrella': False, 'temp': 12.65}"
      ]
     },
     "metadata": {},
     "execution_count": 38
    }
   ],
   "source": [
    "service = 'http://127.0.0.1:8000/api/umbrella_v6?city=berlin&country=germany'\n",
    "r = requests.get(service)\n",
    "print(r)\n",
    "r.json()"
   ]
  },
  {
   "cell_type": "code",
   "execution_count": 35,
   "metadata": {},
   "outputs": [
    {
     "output_type": "stream",
     "name": "stdout",
     "text": [
      "<Response [200]>\n"
     ]
    },
    {
     "output_type": "execute_result",
     "data": {
      "text/plain": [
       "{'weather_category': 'unknown', 'bring_umbrella': False, 'temp': 12.65}"
      ]
     },
     "metadata": {},
     "execution_count": 35
    }
   ],
   "source": [
    "service = 'http://127.0.0.1:8000/api/umbrella_v6'\n",
    "\n",
    "r = requests.get(service, params={'city': 'berlin', 'country': 'germany'})\n",
    "print(r)\n",
    "r.json()"
   ]
  },
  {
   "cell_type": "code",
   "execution_count": 41,
   "metadata": {},
   "outputs": [
    {
     "output_type": "stream",
     "name": "stdout",
     "text": [
      "<Response [200]>\n"
     ]
    },
    {
     "output_type": "execute_result",
     "data": {
      "text/plain": [
       "{'city': 'berlin', 'country': 'germany'}"
      ]
     },
     "metadata": {},
     "execution_count": 41
    }
   ],
   "source": [
    "service = 'http://127.0.0.1:8000/api/umbrella_v6.3'\n",
    "\n",
    "params = {'city': 'berlin', \n",
    "          'country': 'germany'}\n",
    "\n",
    "r = requests.post(service, params=params)\n",
    "print(r)\n",
    "r.json()"
   ]
  }
 ]
}