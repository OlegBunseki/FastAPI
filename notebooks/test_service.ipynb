{
 "metadata": {
  "language_info": {
   "codemirror_mode": {
    "name": "ipython",
    "version": 3
   },
   "file_extension": ".py",
   "mimetype": "text/x-python",
   "name": "python",
   "nbconvert_exporter": "python",
   "pygments_lexer": "ipython3",
   "version": "3.7.9-final"
  },
  "orig_nbformat": 2,
  "kernelspec": {
   "name": "python379jvsc74a57bd069c746de544a52f92176f5e3ca3e2991e1e5e7e3209f778d49537f949c9b0cf5",
   "display_name": "Python 3.7.9 64-bit ('restapi': conda)"
  }
 },
 "nbformat": 4,
 "nbformat_minor": 2,
 "cells": [
  {
   "cell_type": "code",
   "execution_count": 2,
   "metadata": {},
   "outputs": [],
   "source": [
    "import requests"
   ]
  },
  {
   "cell_type": "code",
   "execution_count": 38,
   "metadata": {},
   "outputs": [
    {
     "output_type": "stream",
     "name": "stdout",
     "text": [
      "<Response [200]>\n"
     ]
    },
    {
     "output_type": "execute_result",
     "data": {
      "text/plain": [
       "{'weather_category': 'unknown', 'bring_umbrella': False, 'temp': 12.65}"
      ]
     },
     "metadata": {},
     "execution_count": 38
    }
   ],
   "source": [
    "service = 'http://127.0.0.1:8000/api/umbrella_v6?city=berlin&country=germany'\n",
    "r = requests.get(service)\n",
    "print(r)\n",
    "r.json()"
   ]
  },
  {
   "cell_type": "code",
   "execution_count": 35,
   "metadata": {},
   "outputs": [
    {
     "output_type": "stream",
     "name": "stdout",
     "text": [
      "<Response [200]>\n"
     ]
    },
    {
     "output_type": "execute_result",
     "data": {
      "text/plain": [
       "{'weather_category': 'unknown', 'bring_umbrella': False, 'temp': 12.65}"
      ]
     },
     "metadata": {},
     "execution_count": 35
    }
   ],
   "source": [
    "service = 'http://127.0.0.1:8000/api/umbrella_v6'\n",
    "\n",
    "r = requests.get(service, params={'city': 'berlin', 'country': 'germany'})\n",
    "print(r)\n",
    "r.json()"
   ]
  },
  {
   "cell_type": "code",
   "execution_count": 11,
   "metadata": {},
   "outputs": [
    {
     "output_type": "stream",
     "name": "stdout",
     "text": [
      "<Response [200]>\n"
     ]
    },
    {
     "output_type": "execute_result",
     "data": {
      "text/plain": [
       "{'city': 'berlin', 'country': 'germany'}"
      ]
     },
     "metadata": {},
     "execution_count": 11
    }
   ],
   "source": [
    "service = 'http://127.0.0.1:8000/api/umbrella_v6.3'\n",
    "\n",
    "params = {'city': 'berlin', \n",
    "          'country': 'germany'}\n",
    "\n",
    "r = requests.post(service, params=params)\n",
    "print(r)\n",
    "r.json()"
   ]
  },
  {
   "cell_type": "code",
   "execution_count": 12,
   "metadata": {},
   "outputs": [
    {
     "output_type": "stream",
     "name": "stdout",
     "text": [
      "<Response [422]>\n"
     ]
    },
    {
     "output_type": "execute_result",
     "data": {
      "text/plain": [
       "{'detail': [{'loc': ['query', 'city'],\n",
       "   'msg': 'field required',\n",
       "   'type': 'value_error.missing'},\n",
       "  {'loc': ['query', 'country'],\n",
       "   'msg': 'field required',\n",
       "   'type': 'value_error.missing'}]}"
      ]
     },
     "metadata": {},
     "execution_count": 12
    }
   ],
   "source": [
    "service = 'http://127.0.0.1:8000/api/umbrella_v6.3'\n",
    "\n",
    "params = {'city': 'berlin', \n",
    "          'country': 'germany'}\n",
    "\n",
    "r = requests.post(service, data=params)\n",
    "print(r)\n",
    "r.json()"
   ]
  },
  {
   "cell_type": "code",
   "execution_count": 13,
   "metadata": {},
   "outputs": [
    {
     "output_type": "stream",
     "name": "stdout",
     "text": [
      "<Response [422]>\n"
     ]
    },
    {
     "output_type": "execute_result",
     "data": {
      "text/plain": [
       "{'detail': [{'loc': ['body'],\n",
       "   'msg': 'field required',\n",
       "   'type': 'value_error.missing'}]}"
      ]
     },
     "metadata": {},
     "execution_count": 13
    }
   ],
   "source": [
    "service = 'http://127.0.0.1:8000/api/umbrella_v6.4'\n",
    "\n",
    "params = {'city': 'berlin', \n",
    "          'country': 'germany'}\n",
    "\n",
    "r = requests.post(service, params=params)\n",
    "print(r)\n",
    "r.json()"
   ]
  },
  {
   "cell_type": "code",
   "execution_count": 14,
   "metadata": {},
   "outputs": [
    {
     "output_type": "stream",
     "name": "stdout",
     "text": [
      "<Response [422]>\n"
     ]
    },
    {
     "output_type": "execute_result",
     "data": {
      "text/plain": [
       "{'detail': [{'loc': ['body', 0],\n",
       "   'msg': 'Expecting value: line 1 column 1 (char 0)',\n",
       "   'type': 'value_error.jsondecode',\n",
       "   'ctx': {'msg': 'Expecting value',\n",
       "    'doc': 'city=berlin&country=germany',\n",
       "    'pos': 0,\n",
       "    'lineno': 1,\n",
       "    'colno': 1}}]}"
      ]
     },
     "metadata": {},
     "execution_count": 14
    }
   ],
   "source": [
    "service = 'http://127.0.0.1:8000/api/umbrella_v6.4'\n",
    "\n",
    "params = {'city': 'berlin', \n",
    "          'country': 'germany'}\n",
    "\n",
    "r = requests.post(service, data=params)\n",
    "print(r)\n",
    "r.json()"
   ]
  },
  {
   "cell_type": "code",
   "execution_count": 15,
   "metadata": {},
   "outputs": [
    {
     "output_type": "stream",
     "name": "stdout",
     "text": [
      "<Response [200]>\n"
     ]
    },
    {
     "output_type": "execute_result",
     "data": {
      "text/plain": [
       "{'city': 'berlin', 'state': None, 'country': 'germany'}"
      ]
     },
     "metadata": {},
     "execution_count": 15
    }
   ],
   "source": [
    "service = 'http://127.0.0.1:8000/api/umbrella_v6.4'\n",
    "\n",
    "params = {'city': 'berlin', \n",
    "          'country': 'germany'}\n",
    "\n",
    "import json\n",
    "data = json.dumps(params)\n",
    "r = requests.post(service, data=data)\n",
    "print(r)\n",
    "r.json()"
   ]
  },
  {
   "cell_type": "code",
   "execution_count": 20,
   "metadata": {},
   "outputs": [
    {
     "output_type": "stream",
     "name": "stdout",
     "text": [
      "<Response [200]>\n"
     ]
    },
    {
     "output_type": "execute_result",
     "data": {
      "text/plain": [
       "{'city': 'berlin', 'state': None, 'country': 'germany'}"
      ]
     },
     "metadata": {},
     "execution_count": 20
    }
   ],
   "source": [
    "service = 'https://servicev1.azurewebsites.net/api/umbrella_v6.4'\n",
    "\n",
    "params = {'city': 'berlin', \n",
    "          'country': 'germany'}\n",
    "\n",
    "import json\n",
    "data = json.dumps(params)\n",
    "r = requests.post(service, data=data)\n",
    "print(r)\n",
    "r.json()"
   ]
  }
 ]
}