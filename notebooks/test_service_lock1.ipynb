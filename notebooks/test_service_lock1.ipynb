{
 "metadata": {
  "language_info": {
   "codemirror_mode": {
    "name": "ipython",
    "version": 3
   },
   "file_extension": ".py",
   "mimetype": "text/x-python",
   "name": "python",
   "nbconvert_exporter": "python",
   "pygments_lexer": "ipython3",
   "version": "3.7.9-final"
  },
  "orig_nbformat": 2,
  "kernelspec": {
   "name": "python379jvsc74a57bd069c746de544a52f92176f5e3ca3e2991e1e5e7e3209f778d49537f949c9b0cf5",
   "display_name": "Python 3.7.9 64-bit"
  }
 },
 "nbformat": 4,
 "nbformat_minor": 2,
 "cells": [
  {
   "cell_type": "code",
   "execution_count": 3,
   "metadata": {},
   "outputs": [
    {
     "output_type": "execute_result",
     "data": {
      "text/plain": [
       "{'result': 4}"
      ]
     },
     "metadata": {},
     "execution_count": 3
    }
   ],
   "source": [
    "import requests\n",
    "\n",
    "r = requests.get('http://127.0.0.1:8000/run', params={'a': 2, 'b': 2})\n",
    "r.json()"
   ]
  },
  {
   "cell_type": "code",
   "execution_count": 74,
   "metadata": {},
   "outputs": [
    {
     "output_type": "execute_result",
     "data": {
      "text/plain": [
       "{'status': 'available'}"
      ]
     },
     "metadata": {},
     "execution_count": 74
    }
   ],
   "source": [
    "import requests\n",
    "\n",
    "r = requests.get('http://127.0.0.1:8000/info')\n",
    "r.json()"
   ]
  },
  {
   "cell_type": "code",
   "execution_count": 75,
   "metadata": {},
   "outputs": [
    {
     "output_type": "execute_result",
     "data": {
      "text/plain": [
       "{'result': 4}"
      ]
     },
     "metadata": {},
     "execution_count": 75
    }
   ],
   "source": [
    "import requests\n",
    "\n",
    "r = requests.get('http://127.0.0.1:8000/run_lock', params={'a': 2, 'b': 2, 'i': 1})\n",
    "r.json()"
   ]
  },
  {
   "cell_type": "code",
   "execution_count": 77,
   "metadata": {},
   "outputs": [
    {
     "output_type": "execute_result",
     "data": {
      "text/plain": [
       "{'status': 'ok'}"
      ]
     },
     "metadata": {},
     "execution_count": 77
    }
   ],
   "source": [
    "import requests\n",
    "\n",
    "r = requests.get('http://127.0.0.1:8000/run1')\n",
    "r.json()"
   ]
  }
 ]
}