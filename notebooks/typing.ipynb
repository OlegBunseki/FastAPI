{
 "metadata": {
  "language_info": {
   "codemirror_mode": {
    "name": "ipython",
    "version": 3
   },
   "file_extension": ".py",
   "mimetype": "text/x-python",
   "name": "python",
   "nbconvert_exporter": "python",
   "pygments_lexer": "ipython3",
   "version": "3.7.9"
  },
  "orig_nbformat": 2,
  "kernelspec": {
   "name": "python379jvsc74a57bd069c746de544a52f92176f5e3ca3e2991e1e5e7e3209f778d49537f949c9b0cf5",
   "display_name": "Python 3.7.9 64-bit ('restapi': conda)"
  }
 },
 "nbformat": 4,
 "nbformat_minor": 2,
 "cells": [
  {
   "source": [
    "# Python Types\n",
    "\n",
    "### Links:\n",
    "- https://fastapi.tiangolo.com/python-types/\n",
    "- https://mypy.readthedocs.io/en/stable/cheat_sheet_py3.html"
   ],
   "cell_type": "markdown",
   "metadata": {}
  },
  {
   "cell_type": "code",
   "execution_count": 9,
   "metadata": {},
   "outputs": [
    {
     "output_type": "stream",
     "name": "stdout",
     "text": [
      "1 / <class 'int'>\n1 / <class 'int'>\n"
     ]
    }
   ],
   "source": [
    "a = 1\n",
    "print(a, '/', type(a))\n",
    "\n",
    "b: int = 1\n",
    "print(b, '/', type(b))"
   ]
  },
  {
   "cell_type": "code",
   "execution_count": 13,
   "metadata": {},
   "outputs": [
    {
     "output_type": "stream",
     "name": "stdout",
     "text": [
      "1\n1.0\nTrue\ntest\nb'test'\n"
     ]
    }
   ],
   "source": [
    "x: int = 1\n",
    "print(x)\n",
    "\n",
    "x: float = 1.0\n",
    "print(x)\n",
    "\n",
    "x: bool = True\n",
    "print(x)\n",
    "\n",
    "x: str = \"test\"\n",
    "print(x)\n",
    "\n",
    "x: bytes = b\"test\"\n",
    "print(x)"
   ]
  },
  {
   "cell_type": "code",
   "execution_count": 16,
   "metadata": {},
   "outputs": [],
   "source": [
    "from typing import List, Tuple, Set, Dict, Optional"
   ]
  },
  {
   "cell_type": "code",
   "execution_count": 27,
   "metadata": {},
   "outputs": [
    {
     "output_type": "stream",
     "name": "stdout",
     "text": [
      "[1]\n{8, 6, 7}\n{'field': 2.0}\n(3, 'yes', 7.5)\n(1, 2, 3)\n"
     ]
    }
   ],
   "source": [
    "# LIST\n",
    "x: List[int] = [1]\n",
    "print(x)\n",
    "\n",
    "# SETS\n",
    "x: Set[int] = {6, 7, 7, 8}\n",
    "print(x)\n",
    "\n",
    "# DICTIONARIES\n",
    "x: Dict[str, float] = {'field': 2.0}\n",
    "print(x)\n",
    "\n",
    "# TUPLES\n",
    "x: Tuple[int, str, float] = (3, \"yes\", 7.5)\n",
    "print(x)\n",
    "x: Tuple[int, ...] = (1, 2, 3)\n",
    "print(x)"
   ]
  },
  {
   "cell_type": "code",
   "execution_count": 22,
   "metadata": {},
   "outputs": [],
   "source": []
  },
  {
   "cell_type": "code",
   "execution_count": null,
   "metadata": {},
   "outputs": [],
   "source": []
  }
 ]
}