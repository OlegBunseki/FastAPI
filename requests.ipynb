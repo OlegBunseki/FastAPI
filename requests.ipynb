{
 "metadata": {
  "language_info": {
   "codemirror_mode": {
    "name": "ipython",
    "version": 3
   },
   "file_extension": ".py",
   "mimetype": "text/x-python",
   "name": "python",
   "nbconvert_exporter": "python",
   "pygments_lexer": "ipython3",
   "version": "3.7.6-final"
  },
  "orig_nbformat": 2,
  "kernelspec": {
   "name": "python376jvsc74a57bd07d5a87eceeaf5be577e0767b6e17285ab1d04916e4505acc0272643a31adc50a",
   "display_name": "Python 3.7.6 64-bit (conda)"
  }
 },
 "nbformat": 4,
 "nbformat_minor": 2,
 "cells": [
  {
   "cell_type": "code",
   "execution_count": 1,
   "metadata": {},
   "outputs": [],
   "source": [
    "import requests"
   ]
  },
  {
   "cell_type": "code",
   "execution_count": 3,
   "metadata": {},
   "outputs": [
    {
     "output_type": "execute_result",
     "data": {
      "text/plain": [
       "<Response [200]>"
      ]
     },
     "metadata": {},
     "execution_count": 3
    }
   ],
   "source": [
    "city = 'Berlin'\n",
    "timezone = 'Europe/Berlin'\n",
    "\n",
    "r = requests.get('http://worldtimeapi.org/api/timezone/{}'.format(timezone))\n",
    "r"
   ]
  },
  {
   "cell_type": "code",
   "execution_count": 4,
   "metadata": {},
   "outputs": [
    {
     "output_type": "execute_result",
     "data": {
      "text/plain": [
       "['__attrs__',\n",
       " '__bool__',\n",
       " '__class__',\n",
       " '__delattr__',\n",
       " '__dict__',\n",
       " '__dir__',\n",
       " '__doc__',\n",
       " '__enter__',\n",
       " '__eq__',\n",
       " '__exit__',\n",
       " '__format__',\n",
       " '__ge__',\n",
       " '__getattribute__',\n",
       " '__getstate__',\n",
       " '__gt__',\n",
       " '__hash__',\n",
       " '__init__',\n",
       " '__init_subclass__',\n",
       " '__iter__',\n",
       " '__le__',\n",
       " '__lt__',\n",
       " '__module__',\n",
       " '__ne__',\n",
       " '__new__',\n",
       " '__nonzero__',\n",
       " '__reduce__',\n",
       " '__reduce_ex__',\n",
       " '__repr__',\n",
       " '__setattr__',\n",
       " '__setstate__',\n",
       " '__sizeof__',\n",
       " '__str__',\n",
       " '__subclasshook__',\n",
       " '__weakref__',\n",
       " '_content',\n",
       " '_content_consumed',\n",
       " '_next',\n",
       " 'apparent_encoding',\n",
       " 'close',\n",
       " 'connection',\n",
       " 'content',\n",
       " 'cookies',\n",
       " 'elapsed',\n",
       " 'encoding',\n",
       " 'headers',\n",
       " 'history',\n",
       " 'is_permanent_redirect',\n",
       " 'is_redirect',\n",
       " 'iter_content',\n",
       " 'iter_lines',\n",
       " 'json',\n",
       " 'links',\n",
       " 'next',\n",
       " 'ok',\n",
       " 'raise_for_status',\n",
       " 'raw',\n",
       " 'reason',\n",
       " 'request',\n",
       " 'status_code',\n",
       " 'text',\n",
       " 'url']"
      ]
     },
     "metadata": {},
     "execution_count": 4
    }
   ],
   "source": [
    "dir(r)"
   ]
  },
  {
   "cell_type": "code",
   "execution_count": 17,
   "metadata": {},
   "outputs": [
    {
     "output_type": "stream",
     "name": "stdout",
     "text": [
      "apparent_encoding:        ascii\n\nclose:                    <bound method Response.close of <Response [200]>>\n\nconnection:               <requests.adapters.HTTPAdapter object at 0x0000024CB3768208>\n\ncontent:                  b'{\"abbreviation\":\"CEST\",\"client_ip\":\"37.201.225.120\",\"datetime\":\"2021-04-08T16:56:21.375865+02:00\",\"day_of_week\":4,\"day_of_year\":98,\"dst\":true,\"dst_from\":\"2021-03-28T01:00:00+00:00\",\"dst_offset\":3600,\"dst_until\":\"2021-10-31T01:00:00+00:00\",\"raw_offset\":3600,\"timezone\":\"Europe/Berlin\",\"unixtime\":1617893781,\"utc_datetime\":\"2021-04-08T14:56:21.375865+00:00\",\"utc_offset\":\"+02:00\",\"week_number\":14}'\n\ncookies:                  <RequestsCookieJar[]>\n\nelapsed:                  0:00:00.125563\n\nencoding:                 utf-8\n\nheaders:                  {'Connection': 'keep-alive', 'Access-Control-Allow-Credentials': 'true', 'Access-Control-Allow-Origin': '*', 'Access-Control-Expose-Headers': '', 'Cache-Control': 'max-age=0, private, must-revalidate', 'Content-Length': '395', 'Content-Type': 'application/json; charset=utf-8', 'Cross-Origin-Window-Policy': 'deny', 'Date': 'Thu, 08 Apr 2021 14:56:21 GMT', 'Server': 'Cowboy', 'X-Content-Type-Options': 'nosniff', 'X-Download-Options': 'noopen', 'X-Frame-Options': 'SAMEORIGIN', 'X-Permitted-Cross-Domain-Policies': 'none', 'X-Request-Id': '716c554e-e2d8-4857-8e24-d623be5a8e19', 'X-Runtime': '4ms', 'X-Xss-Protection': '1; mode=block', 'Via': '1.1 vegur'}\n\nhistory:                  []\n\nis_permanent_redirect:    False\n\nis_redirect:              False\n\niter_content:             <bound method Response.iter_content of <Response [200]>>\n\niter_lines:               <bound method Response.iter_lines of <Response [200]>>\n\njson:                     <bound method Response.json of <Response [200]>>\n\nlinks:                    {}\n\nnext:                     None\n\nok:                       True\n\nraise_for_status:         <bound method Response.raise_for_status of <Response [200]>>\n\nraw:                      <urllib3.response.HTTPResponse object at 0x0000024CB1EF1608>\n\nreason:                   OK\n\nrequest:                  <PreparedRequest [GET]>\n\nstatus_code:              200\n\ntext:                     {\"abbreviation\":\"CEST\",\"client_ip\":\"37.201.225.120\",\"datetime\":\"2021-04-08T16:56:21.375865+02:00\",\"day_of_week\":4,\"day_of_year\":98,\"dst\":true,\"dst_from\":\"2021-03-28T01:00:00+00:00\",\"dst_offset\":3600,\"dst_until\":\"2021-10-31T01:00:00+00:00\",\"raw_offset\":3600,\"timezone\":\"Europe/Berlin\",\"unixtime\":1617893781,\"utc_datetime\":\"2021-04-08T14:56:21.375865+00:00\",\"utc_offset\":\"+02:00\",\"week_number\":14}\n\nurl:                      http://worldtimeapi.org/api/timezone/Europe/Berlin\n\n"
     ]
    }
   ],
   "source": [
    "print('apparent_encoding:'.ljust(25), r.apparent_encoding); print()\n",
    "print('close:'.ljust(25), r.close); print()\n",
    "print('connection:'.ljust(25), r.connection); print()\n",
    "print('content:'.ljust(25), r.content); print()\n",
    "print('cookies:'.ljust(25), r.cookies); print()\n",
    "print('elapsed:'.ljust(25), r.elapsed); print()\n",
    "print('encoding:'.ljust(25), r.encoding); print()\n",
    "print('headers:'.ljust(25), r.headers); print()\n",
    "print('history:'.ljust(25), r.history); print()\n",
    "print('is_permanent_redirect:'.ljust(25), r.is_permanent_redirect); print()\n",
    "print('is_redirect:'.ljust(25), r.is_redirect); print()\n",
    "print('iter_content:'.ljust(25), r.iter_content); print()\n",
    "print('iter_lines:'.ljust(25), r.iter_lines); print()\n",
    "print('json:'.ljust(25), r.json); print()\n",
    "print('links:'.ljust(25), r.links); print()\n",
    "print('next:'.ljust(25), r.next); print()\n",
    "print('ok:'.ljust(25), r.ok); print()\n",
    "print('raise_for_status:'.ljust(25), r.raise_for_status); print()\n",
    "print('raw:'.ljust(25), r.raw); print()\n",
    "print('reason:'.ljust(25), r.reason); print()\n",
    "print('request:'.ljust(25), r.request); print()\n",
    "print('status_code:'.ljust(25), r.status_code); print()\n",
    "print('text:'.ljust(25), r.text); print()\n",
    "print('url:'.ljust(25), r.url); print()"
   ]
  },
  {
   "cell_type": "code",
   "execution_count": 20,
   "metadata": {},
   "outputs": [
    {
     "output_type": "execute_result",
     "data": {
      "text/plain": [
       "{'abbreviation': 'CEST',\n",
       " 'client_ip': '37.201.225.120',\n",
       " 'datetime': '2021-04-08T16:56:21.375865+02:00',\n",
       " 'day_of_week': 4,\n",
       " 'day_of_year': 98,\n",
       " 'dst': True,\n",
       " 'dst_from': '2021-03-28T01:00:00+00:00',\n",
       " 'dst_offset': 3600,\n",
       " 'dst_until': '2021-10-31T01:00:00+00:00',\n",
       " 'raw_offset': 3600,\n",
       " 'timezone': 'Europe/Berlin',\n",
       " 'unixtime': 1617893781,\n",
       " 'utc_datetime': '2021-04-08T14:56:21.375865+00:00',\n",
       " 'utc_offset': '+02:00',\n",
       " 'week_number': 14}"
      ]
     },
     "metadata": {},
     "execution_count": 20
    }
   ],
   "source": [
    "r.json()"
   ]
  },
  {
   "cell_type": "code",
   "execution_count": 21,
   "metadata": {},
   "outputs": [],
   "source": [
    "r.raise_for_status()"
   ]
  }
 ]
}